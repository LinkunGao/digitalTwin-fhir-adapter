{
 "nbformat": 4,
 "nbformat_minor": 0,
 "metadata": {
  "colab": {
   "provenance": []
  },
  "kernelspec": {
   "name": "python3",
   "display_name": "Python 3"
  },
  "language_info": {
   "name": "python"
  }
 },
 "cells": [
  {
   "cell_type": "markdown",
   "source": [
    "# DigitalTWINS on FHIR - workflow report for all EPs"
   ],
   "metadata": {
    "id": "RiUskYp-MX5d"
   }
  },
  {
   "cell_type": "markdown",
   "source": [
    "## Installation\n"
   ],
   "metadata": {
    "id": "TvVSSpNzMfk3"
   }
  },
  {
   "cell_type": "code",
   "source": [
    "pip install digitaltwins-on-fhir"
   ],
   "metadata": {
    "colab": {
     "base_uri": "https://localhost:8080/"
    },
    "id": "Y68bQ2nxP3OK",
    "executionInfo": {
     "status": "ok",
     "timestamp": 1734576128841,
     "user_tz": -780,
     "elapsed": 9165,
     "user": {
      "displayName": "Thiranja Babarenda Gamage",
      "userId": "10613755542012398922"
     }
    },
    "outputId": "60c12c2a-bbda-4aad-b6ea-0e5e35a9dc5e"
   },
   "outputs": [],
   "execution_count": null
  },
  {
   "cell_type": "markdown",
   "source": [
    "## Example - Generating workflow report for EP4\n",
    "### Connect to fhir server"
   ],
   "metadata": {
    "id": "uBNsF8zpM6Zj"
   }
  },
  {
   "cell_type": "code",
   "source": [
    "from digitaltwins_on_fhir import Adapter\n",
    "adapter = Adapter(\"http://130.216.217.173:8080/fhir\")\n",
    "client = adapter.async_client"
   ],
   "metadata": {
    "id": "kiKLuA3aNSQD",
    "executionInfo": {
     "status": "ok",
     "timestamp": 1734576128841,
     "user_tz": -780,
     "elapsed": 4,
     "user": {
      "displayName": "Thiranja Babarenda Gamage",
      "userId": "10613755542012398922"
     }
    }
   },
   "outputs": [],
   "execution_count": null
  },
  {
   "cell_type": "markdown",
   "source": [
    "### Generate DiagnosticReport for the patient\n",
    "Let's assume we want to generate a report for the patient in a breast research dataset, and running breast workflow / workflow tools.\n",
    "\n",
    "- patient uuid: `54f2abff-6594-11ef-917d-484d7e9beb16`\n",
    "- workflow uuid: `e3b3eaa0-65ae-11ef-917d-484d7e9beb16`\n",
    "- workflow_tool uuid: `b6b7b363-65ae-11ef-917d-484d7e9beb16`\n",
    "- dataset uuid: `93d49efa-5f4e-11ef-917d-484d7e9beb16`"
   ],
   "metadata": {
    "id": "GTTx64KTNzy_"
   }
  },
  {
   "cell_type": "code",
   "source": [
    "# find the patient\n",
    "patient = await adapter.search().search_resource_async('Patient', \"54f2abff-6594-11ef-917d-484d7e9beb16\")\n",
    "patient"
   ],
   "metadata": {
    "colab": {
     "base_uri": "https://localhost:8080/"
    },
    "id": "-5oaWTXkO0Oa",
    "executionInfo": {
     "status": "ok",
     "timestamp": 1734576128841,
     "user_tz": -780,
     "elapsed": 4,
     "user": {
      "displayName": "Thiranja Babarenda Gamage",
      "userId": "10613755542012398922"
     }
    },
    "outputId": "5dac27e9-35f7-408d-b64b-a77065548f96"
   },
   "outputs": [],
   "execution_count": null
  },
  {
   "cell_type": "code",
   "source": [
    "# Find the workflow\n",
    "workflow = await adapter.search().search_resource_async(\"PlanDefinition\", \"e3b3eaa0-65ae-11ef-917d-484d7e9beb16\")\n",
    "workflow"
   ],
   "metadata": {
    "colab": {
     "base_uri": "https://localhost:8080/"
    },
    "id": "o_Yo-UskQLBb",
    "executionInfo": {
     "status": "ok",
     "timestamp": 1734576130051,
     "user_tz": -780,
     "elapsed": 1213,
     "user": {
      "displayName": "Thiranja Babarenda Gamage",
      "userId": "10613755542012398922"
     }
    },
    "outputId": "bd4b1380-5260-4cbe-87aa-3135ae245a89"
   },
   "outputs": [],
   "execution_count": null
  },
  {
   "cell_type": "code",
   "source": [
    "# Find the generate report workflow tool\n",
    "workflow_tool = await adapter.search().search_resource_async(\"ActivityDefinition\", \"b6b7b363-65ae-11ef-917d-484d7e9beb16\")\n",
    "workflow_tool"
   ],
   "metadata": {
    "colab": {
     "base_uri": "https://localhost:8080/"
    },
    "id": "s7xQI46tQcS4",
    "executionInfo": {
     "status": "ok",
     "timestamp": 1734576130051,
     "user_tz": -780,
     "elapsed": 6,
     "user": {
      "displayName": "Thiranja Babarenda Gamage",
      "userId": "10613755542012398922"
     }
    },
    "outputId": "01676aa3-b422-4da8-8b9e-f5c58d8f54dd"
   },
   "outputs": [],
   "execution_count": null
  },
  {
   "cell_type": "code",
   "source": [
    "# Find the dataset\n",
    "dataset = await adapter.search().search_resource_async(\"ResearchStudy\", \"93d49efa-5f4e-11ef-917d-484d7e9beb16\")\n",
    "dataset"
   ],
   "metadata": {
    "colab": {
     "base_uri": "https://localhost:8080/"
    },
    "id": "U0WCcGtjQuP3",
    "executionInfo": {
     "status": "ok",
     "timestamp": 1734576130051,
     "user_tz": -780,
     "elapsed": 4,
     "user": {
      "displayName": "Thiranja Babarenda Gamage",
      "userId": "10613755542012398922"
     }
    },
    "outputId": "e429a20b-b743-4938-8de9-ffe3d7563397"
   },
   "outputs": [],
   "execution_count": null
  },
  {
   "cell_type": "markdown",
   "source": [
    "Then we need to find out the workflow tool process for this patient"
   ],
   "metadata": {
    "id": "b993mFxGRKMR"
   }
  },
  {
   "cell_type": "code",
   "source": [
    "research_subject = await client.resources(\"ResearchSubject\").search(patient=patient.to_reference(),\n",
    "                                                                    study=dataset.to_reference()).first()\n",
    "processes = await client.resources(\"Task\").search(owner=patient.to_reference(),\n",
    "                                                  subject=workflow.to_reference(),\n",
    "                                                  focus=workflow_tool.to_reference(),\n",
    "                                                  based_on=research_subject.to_reference()).fetch_all()\n",
    "report_process = processes[0]\n",
    "report_process"
   ],
   "metadata": {
    "colab": {
     "base_uri": "https://localhost:8080/"
    },
    "id": "XNEKIjkpRUPo",
    "executionInfo": {
     "status": "ok",
     "timestamp": 1734576130488,
     "user_tz": -780,
     "elapsed": 440,
     "user": {
      "displayName": "Thiranja Babarenda Gamage",
      "userId": "10613755542012398922"
     }
    },
    "outputId": "30827ce6-d298-4576-e7a4-f7d9d1f2b49c"
   },
   "outputs": [],
   "execution_count": null
  },
  {
   "cell_type": "markdown",
   "source": [
    "Now we can based on the workflow tool process to generate the DignosticReport"
   ],
   "metadata": {
    "id": "-v04dD_HU79Q"
   }
  },
  {
   "cell_type": "code",
   "source": [
    "from digitaltwins_on_fhir.core.resource import CodeableConcept, Coding, Code, Reference, Identifier, DiagnosticReport"
   ],
   "metadata": {
    "id": "zdNaZJtCVJ-p",
    "executionInfo": {
     "status": "ok",
     "timestamp": 1734576130488,
     "user_tz": -780,
     "elapsed": 2,
     "user": {
      "displayName": "Thiranja Babarenda Gamage",
      "userId": "10613755542012398922"
     }
    }
   },
   "outputs": [],
   "execution_count": null
  },
  {
   "cell_type": "code",
   "source": [
    "obs = []\n",
    "for item in report_process.get(\"output\"):\n",
    "    if item.get(\"type\").get(\"text\") == \"Observation\":\n",
    "        ob = await item.get(\"valueReference\").to_resource()\n",
    "        obs.append(\n",
    "            Reference(reference=item.get(\"valueReference\").reference, display=ob.get(\"code\").get(\"text\")))\n",
    "\n",
    "report = DiagnosticReport(status=\"final\",\n",
    "                          identifier=[\n",
    "                              Identifier(use=Code(\"official\"), system=\"sparc.org\",\n",
    "                                          value='sparc-breast-workflow-report-xxx-001')],\n",
    "                          code=CodeableConcept(codings=[Coding(system=\"https://www.auckland.ac.nz/en/abi.html\",\n",
    "                                                                code=Code(value=\"Workflow report\"),\n",
    "                                                                display=\"Workflow report\")],\n",
    "                                                text=\"Workflow report\"),\n",
    "                          subject=patient.to_reference(),\n",
    "                          result=obs,\n",
    "                          conclusion=\"This is a report for breast\")\n",
    "process = adapter.digital_twin().process()\n",
    "r = await process.generate_diagnostic_report(report)\n",
    "r"
   ],
   "metadata": {
    "colab": {
     "base_uri": "https://localhost:8080/"
    },
    "id": "1DZm3uRSVOJ9",
    "executionInfo": {
     "status": "ok",
     "timestamp": 1734576132684,
     "user_tz": -780,
     "elapsed": 2198,
     "user": {
      "displayName": "Thiranja Babarenda Gamage",
      "userId": "10613755542012398922"
     }
    },
    "outputId": "ba3c1a65-79c8-42a3-bbe0-db5783b9a908"
   },
   "outputs": [],
   "execution_count": null
  },
  {
   "cell_type": "markdown",
   "source": [
    "Now we can use third-party package to generate final pdf report for the patient\n",
    "\n",
    "The PDF code below will be merge to digitaltwins-on-fhir later"
   ],
   "metadata": {
    "id": "KAs9bH-LVjkT"
   }
  },
  {
   "cell_type": "code",
   "source": [
    "pip install fpdf"
   ],
   "metadata": {
    "colab": {
     "base_uri": "https://localhost:8080/"
    },
    "id": "G91-rFomVzjo",
    "executionInfo": {
     "status": "ok",
     "timestamp": 1734576139944,
     "user_tz": -780,
     "elapsed": 7264,
     "user": {
      "displayName": "Thiranja Babarenda Gamage",
      "userId": "10613755542012398922"
     }
    },
    "outputId": "1c22a0e6-f145-4473-fbb4-2f2a11701190"
   },
   "outputs": [],
   "execution_count": null
  },
  {
   "cell_type": "code",
   "source": [
    "from fpdf import FPDF\n",
    "class PDF(FPDF):\n",
    "\n",
    "    def set_title(self, title):\n",
    "        self.title = title\n",
    "\n",
    "    def header(self):\n",
    "        self.set_font('Arial', 'B', 12)\n",
    "        self.cell(0, 10, self.title, 0, 1, 'C')\n",
    "\n",
    "    def footer(self):\n",
    "        self.set_y(-15)\n",
    "        self.set_font('Arial', 'I', 8)\n",
    "        self.cell(0, 10, f'Page {self.page_no()}', 0, 0, 'C')"
   ],
   "metadata": {
    "id": "6fmXkohqV08e",
    "executionInfo": {
     "status": "ok",
     "timestamp": 1734576139944,
     "user_tz": -780,
     "elapsed": 5,
     "user": {
      "displayName": "Thiranja Babarenda Gamage",
      "userId": "10613755542012398922"
     }
    }
   },
   "outputs": [],
   "execution_count": null
  },
  {
   "cell_type": "code",
   "source": [
    "pdf = PDF('P', 'mm', 'A4')\n",
    "pdf.set_title(\"Breast workflow report\")\n",
    "pdf.add_page()\n",
    "pdf.set_font('Arial', '', 10)\n",
    "pdf.cell(0, 10, f'Patient uuid: {patient.get_by_path([\"identifier\", 0, \"value\"])}', 0, 1, 'L')\n",
    "pdf.cell(0, 10, f'Workflow: {workflow.get(\"title\")}, uuid: {workflow.get_by_path([\"identifier\", 0, \"value\"])}', 0, 1, 'L')\n",
    "pdf.multi_cell(0, 10, f'Workflow description: {workflow.get(\"description\")}', 0, 1, 'L')\n",
    "pdf.cell(0, 10, f'Execute time: {report_process.get(\"lastModified\")}', 0, 1, 'L')\n",
    "pdf.cell(0, 10, f'Results:', 0, 1, 'L')\n",
    "for result in r.get('result'):\n",
    "    ob = await result.to_resource()\n",
    "    pdf.cell(400, 10, f'{ob.get(\"code\").get(\"text\")}: {ob.get(\"valueQuantity\").get(\"value\")} {ob.get(\"valueQuantity\").get(\"unit\")}', 0, 1, 'L')\n",
    "pdf.output('Breast workflow result.pdf')"
   ],
   "metadata": {
    "colab": {
     "base_uri": "https://localhost:8080/",
     "height": 36
    },
    "id": "dJ0EwnecWG0n",
    "executionInfo": {
     "status": "ok",
     "timestamp": 1734576141462,
     "user_tz": -780,
     "elapsed": 1522,
     "user": {
      "displayName": "Thiranja Babarenda Gamage",
      "userId": "10613755542012398922"
     }
    },
    "outputId": "0a23f6fe-c7c1-44aa-9a64-1df92b1448f5"
   },
   "outputs": [],
   "execution_count": null
  },
  {
   "cell_type": "markdown",
   "source": [
    "If you run the code locally, then you will get a PDF file looks like below image:\n",
    "\n",
    "![image.png](data:image/png;base64,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)"
   ],
   "metadata": {
    "id": "bD-Q92TPYUb1"
   }
  }
 ]
}
